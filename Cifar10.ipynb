{
  "nbformat": 4,
  "nbformat_minor": 0,
  "metadata": {
    "colab": {
      "name": "Cifar10.ipynb",
      "version": "0.3.2",
      "provenance": [],
      "collapsed_sections": []
    },
    "kernelspec": {
      "name": "python3",
      "display_name": "Python 3"
    },
    "accelerator": "GPU"
  },
  "cells": [
    {
      "metadata": {
        "id": "-WtNI04ejZIm",
        "colab_type": "code",
        "colab": {
          "base_uri": "https://localhost:8080/",
          "height": 34
        },
        "outputId": "7db9a5e1-5d77-4186-bf33-3198325d732a"
      },
      "cell_type": "code",
      "source": [
        "import keras\n",
        "from keras.models import Sequential\n",
        "from keras.utils import np_utils\n",
        "from keras.preprocessing.image import ImageDataGenerator\n",
        "from keras.layers import Conv2D,MaxPooling2D,Dense,Flatten,Activation,BatchNormalization,Dropout\n",
        "from keras.datasets import cifar10\n",
        "from keras import regularizers\n",
        "import numpy as np"
      ],
      "execution_count": 2,
      "outputs": [
        {
          "output_type": "stream",
          "text": [
            "Using TensorFlow backend.\n"
          ],
          "name": "stderr"
        }
      ]
    },
    {
      "metadata": {
        "id": "bei3fA_io_Fi",
        "colab_type": "code",
        "colab": {
          "base_uri": "https://localhost:8080/",
          "height": 52
        },
        "outputId": "14ec7d2a-ba97-4532-95ec-1d5fadb8ef14"
      },
      "cell_type": "code",
      "source": [
        "(X_train,Y_train),(X_test,Y_test) = cifar10.load_data()\n",
        "X_train = X_train.astype('float32')\n",
        "X_test = X_test.astype('float32')"
      ],
      "execution_count": 3,
      "outputs": [
        {
          "output_type": "stream",
          "text": [
            "Downloading data from https://www.cs.toronto.edu/~kriz/cifar-10-python.tar.gz\n",
            "170500096/170498071 [==============================] - 18s 0us/step\n"
          ],
          "name": "stdout"
        }
      ]
    },
    {
      "metadata": {
        "id": "0EY6cz4FqJU_",
        "colab_type": "code",
        "colab": {}
      },
      "cell_type": "code",
      "source": [
        "X_train = X_train/255\n",
        "X_test = X_test/255"
      ],
      "execution_count": 0,
      "outputs": []
    },
    {
      "metadata": {
        "id": "AtgihuJgqPCp",
        "colab_type": "code",
        "colab": {}
      },
      "cell_type": "code",
      "source": [
        "num_classes = 10\n",
        "Y_train = np_utils.to_categorical(Y_train,num_classes)\n",
        "Y_test = np_utils.to_categorical(Y_test,num_classes)"
      ],
      "execution_count": 0,
      "outputs": []
    },
    {
      "metadata": {
        "id": "0LGvlXUgp1JK",
        "colab_type": "code",
        "outputId": "673e8a9b-5f22-491c-f4d9-fe0a266ce52f",
        "colab": {
          "base_uri": "https://localhost:8080/",
          "height": 1654
        }
      },
      "cell_type": "code",
      "source": [
        "weight_decay = 1e-4\n",
        "model = Sequential()\n",
        "model.add(Conv2D(32,(3,3),padding='same',kernel_regularizer = regularizers.l2(weight_decay),input_shape = X_train.shape[1:]))\n",
        "model.add(Activation('relu'))\n",
        "model.add(BatchNormalization())\n",
        "model.add(Conv2D(32,(3,3),padding='same',kernel_regularizer = regularizers.l2(weight_decay)))\n",
        "model.add(Activation('relu'))\n",
        "model.add(BatchNormalization())\n",
        "model.add(MaxPooling2D(pool_size=(2,2)))\n",
        "model.add(Dropout(0.2))\n",
        "\n",
        "model.add(Conv2D(64,(3,3),padding='same',kernel_regularizer = regularizers.l2(weight_decay)))\n",
        "model.add(Activation('relu'))\n",
        "model.add(BatchNormalization())\n",
        "model.add(Conv2D(64,(3,3),padding='same',kernel_regularizer = regularizers.l2(weight_decay)))\n",
        "model.add(Activation('relu'))\n",
        "model.add(BatchNormalization())\n",
        "model.add(MaxPooling2D(pool_size=(2,2)))\n",
        "model.add(Dropout(0.3))\n",
        "\n",
        "model.add(Conv2D(128,(3,3),padding='same',kernel_regularizer = regularizers.l2(weight_decay)))\n",
        "model.add(Activation('relu'))\n",
        "model.add(BatchNormalization())\n",
        "model.add(Conv2D(128,(3,3),padding='same',kernel_regularizer = regularizers.l2(weight_decay)))\n",
        "model.add(Activation('relu'))\n",
        "model.add(BatchNormalization())\n",
        "model.add(MaxPooling2D(pool_size=(2,2)))\n",
        "model.add(Dropout(0.4))\n",
        "\n",
        "model.add(Flatten())\n",
        "model.add(Dense(num_classes,activation = 'softmax'))\n",
        "\n",
        "model.summary()\n",
        "\n",
        "\n",
        "datagen = ImageDataGenerator(rotation_range = 15,width_shift_range=0.1,height_shift_range=0.1,horizontal_flip=True)\n",
        "\n",
        "datagen.fit(X_train)\n",
        "\n",
        "batch_size = 64\n",
        "epochs=10\n",
        "\n",
        "optimizer = keras.optimizers.rmsprop(lr = 0.001, decay = 1e-6)\n",
        "\n",
        "model.compile(loss = 'categorical_crossentropy',optimizer = optimizer, metrics = ['accuracy'])\n",
        "\n",
        "model.fit_generator(datagen.flow(X_train, Y_train, batch_size=batch_size),steps_per_epoch=X_train.shape[0] // batch_size,epochs=epochs,verbose=1,validation_data=(X_test,Y_test))\n",
        "\n",
        "scores = model.evaluate(X_test, Y_test, verbose=1)\n",
        "\n",
        "print('\\nTest result: %.3f loss: %.3f' % (scores[1]*100,scores[0]))"
      ],
      "execution_count": 6,
      "outputs": [
        {
          "output_type": "stream",
          "text": [
            "WARNING:tensorflow:From /usr/local/lib/python3.6/dist-packages/tensorflow/python/framework/op_def_library.py:263: colocate_with (from tensorflow.python.framework.ops) is deprecated and will be removed in a future version.\n",
            "Instructions for updating:\n",
            "Colocations handled automatically by placer.\n",
            "WARNING:tensorflow:From /usr/local/lib/python3.6/dist-packages/keras/backend/tensorflow_backend.py:3445: calling dropout (from tensorflow.python.ops.nn_ops) with keep_prob is deprecated and will be removed in a future version.\n",
            "Instructions for updating:\n",
            "Please use `rate` instead of `keep_prob`. Rate should be set to `rate = 1 - keep_prob`.\n",
            "_________________________________________________________________\n",
            "Layer (type)                 Output Shape              Param #   \n",
            "=================================================================\n",
            "conv2d_1 (Conv2D)            (None, 32, 32, 32)        896       \n",
            "_________________________________________________________________\n",
            "activation_1 (Activation)    (None, 32, 32, 32)        0         \n",
            "_________________________________________________________________\n",
            "batch_normalization_1 (Batch (None, 32, 32, 32)        128       \n",
            "_________________________________________________________________\n",
            "conv2d_2 (Conv2D)            (None, 32, 32, 32)        9248      \n",
            "_________________________________________________________________\n",
            "activation_2 (Activation)    (None, 32, 32, 32)        0         \n",
            "_________________________________________________________________\n",
            "batch_normalization_2 (Batch (None, 32, 32, 32)        128       \n",
            "_________________________________________________________________\n",
            "max_pooling2d_1 (MaxPooling2 (None, 16, 16, 32)        0         \n",
            "_________________________________________________________________\n",
            "dropout_1 (Dropout)          (None, 16, 16, 32)        0         \n",
            "_________________________________________________________________\n",
            "conv2d_3 (Conv2D)            (None, 16, 16, 64)        18496     \n",
            "_________________________________________________________________\n",
            "activation_3 (Activation)    (None, 16, 16, 64)        0         \n",
            "_________________________________________________________________\n",
            "batch_normalization_3 (Batch (None, 16, 16, 64)        256       \n",
            "_________________________________________________________________\n",
            "conv2d_4 (Conv2D)            (None, 16, 16, 64)        36928     \n",
            "_________________________________________________________________\n",
            "activation_4 (Activation)    (None, 16, 16, 64)        0         \n",
            "_________________________________________________________________\n",
            "batch_normalization_4 (Batch (None, 16, 16, 64)        256       \n",
            "_________________________________________________________________\n",
            "max_pooling2d_2 (MaxPooling2 (None, 8, 8, 64)          0         \n",
            "_________________________________________________________________\n",
            "dropout_2 (Dropout)          (None, 8, 8, 64)          0         \n",
            "_________________________________________________________________\n",
            "conv2d_5 (Conv2D)            (None, 8, 8, 128)         73856     \n",
            "_________________________________________________________________\n",
            "activation_5 (Activation)    (None, 8, 8, 128)         0         \n",
            "_________________________________________________________________\n",
            "batch_normalization_5 (Batch (None, 8, 8, 128)         512       \n",
            "_________________________________________________________________\n",
            "conv2d_6 (Conv2D)            (None, 8, 8, 128)         147584    \n",
            "_________________________________________________________________\n",
            "activation_6 (Activation)    (None, 8, 8, 128)         0         \n",
            "_________________________________________________________________\n",
            "batch_normalization_6 (Batch (None, 8, 8, 128)         512       \n",
            "_________________________________________________________________\n",
            "max_pooling2d_3 (MaxPooling2 (None, 4, 4, 128)         0         \n",
            "_________________________________________________________________\n",
            "dropout_3 (Dropout)          (None, 4, 4, 128)         0         \n",
            "_________________________________________________________________\n",
            "flatten_1 (Flatten)          (None, 2048)              0         \n",
            "_________________________________________________________________\n",
            "dense_1 (Dense)              (None, 10)                20490     \n",
            "=================================================================\n",
            "Total params: 309,290\n",
            "Trainable params: 308,394\n",
            "Non-trainable params: 896\n",
            "_________________________________________________________________\n",
            "WARNING:tensorflow:From /usr/local/lib/python3.6/dist-packages/tensorflow/python/ops/math_ops.py:3066: to_int32 (from tensorflow.python.ops.math_ops) is deprecated and will be removed in a future version.\n",
            "Instructions for updating:\n",
            "Use tf.cast instead.\n",
            "Epoch 1/10\n",
            "781/781 [==============================] - 30s 39ms/step - loss: 1.8892 - acc: 0.4323 - val_loss: 1.4246 - val_acc: 0.5369\n",
            "Epoch 2/10\n",
            "781/781 [==============================] - 28s 35ms/step - loss: 1.3898 - acc: 0.5880 - val_loss: 1.2823 - val_acc: 0.6475\n",
            "Epoch 3/10\n",
            "781/781 [==============================] - 25s 32ms/step - loss: 1.2746 - acc: 0.6370 - val_loss: 0.9558 - val_acc: 0.7042\n",
            "Epoch 4/10\n",
            "781/781 [==============================] - 25s 32ms/step - loss: 1.1724 - acc: 0.6728 - val_loss: 0.9718 - val_acc: 0.7044\n",
            "Epoch 5/10\n",
            "781/781 [==============================] - 25s 32ms/step - loss: 1.1082 - acc: 0.6957 - val_loss: 1.0069 - val_acc: 0.7088\n",
            "Epoch 6/10\n",
            "781/781 [==============================] - 25s 32ms/step - loss: 1.0975 - acc: 0.7066 - val_loss: 0.9138 - val_acc: 0.7361\n",
            "Epoch 7/10\n",
            "781/781 [==============================] - 25s 32ms/step - loss: 1.0711 - acc: 0.7183 - val_loss: 0.8582 - val_acc: 0.7463\n",
            "Epoch 8/10\n",
            "781/781 [==============================] - 25s 32ms/step - loss: 1.0863 - acc: 0.7241 - val_loss: 1.2468 - val_acc: 0.6574\n",
            "Epoch 9/10\n",
            "781/781 [==============================] - 25s 32ms/step - loss: 1.0105 - acc: 0.7392 - val_loss: 1.0558 - val_acc: 0.6923\n",
            "Epoch 10/10\n",
            "781/781 [==============================] - 25s 32ms/step - loss: 1.0176 - acc: 0.7426 - val_loss: 1.1338 - val_acc: 0.7200\n",
            "10000/10000 [==============================] - 1s 93us/step\n",
            "\n",
            "Test result: 72.000 loss: 1.134\n"
          ],
          "name": "stdout"
        }
      ]
    }
  ]
}